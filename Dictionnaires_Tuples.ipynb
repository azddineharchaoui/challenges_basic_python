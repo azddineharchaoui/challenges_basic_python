{
 "cells": [
  {
   "cell_type": "markdown",
   "id": "914e84e2",
   "metadata": {},
   "source": [
    "<center>\n",
    "<H1><span style=\"text-align: center; font-weight: bold; color: #746bb3ff;\">Les Dictionnaires & Tuples</span></H1>\n",
    "</center>"
   ]
  },
  {
   "cell_type": "markdown",
   "id": "4904b5d8",
   "metadata": {},
   "source": [
    "<H3><span style=\"font-weight: bold ; color: #19b7f1ff\">Les ressources: </span></H3> \n",
    "\n",
    "**Documentation Officielle** : \n",
    "* [Dictionnaires](https://docs.python.org/fr/3/tutorial/datastructures.html#dictionaries) \n",
    "* [Tuples](https://docs.python.org/fr/3/tutorial/datastructures.html#tuples-and-sequences)"
   ]
  },
  {
   "cell_type": "markdown",
   "id": "6ba65839",
   "metadata": {},
   "source": [
    "<H3><span style=\"font-weight: bold; color: #1a8bcdff;\">Challenge 1 : Manipulation des dictionnaires Python</span></H3>\n",
    "\n",
    "1. <span style=\"font-weight: bold; color: #e56922ff;\">Objectif</span> : </br>\n",
    "Apprendre à manipuler des dictionnaires en Python à travers plusieurs opérations clés\n",
    "\n",
    "2. <span style=\"font-weight: bold; color: #e56922ff;\">Travail à faire</span>:</br>\n",
    "Considérons le dictionnaire suivant :\n",
    "\n",
    "<code>\n",
    "First_dict = { \"Appareil\": \"Laptop\", \"Marque\": \"IBM\", \"Carte mère\": \"MSI Z490\", \"Carte Graphique\":\"GeForce RTX 3070\", \"RAM\": \"16G\", \"Processeur\": \"Intel core i7-G11\", \"SSD\": \"1 To\" }    </code>\n",
    "\n",
    "- *Parti 1:* Écris un programme Python qui effectue les opérations suivantes :\n",
    "\n",
    "1. Corriger la valeur associée à la clé \"RAM\" pour qu’elle devienne \"32G\".\n",
    "\n",
    "2. Afficher successivement :\n",
    "\n",
    "3. La liste des clés du dictionnaire\n",
    "\n",
    "4. La liste des valeurs\n",
    "\n",
    "5. La liste des paires clé-valeur\n",
    "\n",
    "6. Inverser les paires \"Processeur\" : \"Intel core i7-G11\" et \"Carte Graphique\" : \"GeForce RTX 3070\"\n",
    "\n",
    "7. Ajouter la paire clé-valeur suivante : \"Système d’exploitation\": \"Windows 10\"\n",
    "\n",
    "- *Parti 2:* On considère le dictionnaire suivant dont les clés sont les noms des élèves et les valeurs des clés sont les moyennes générales obtenues en passant l’examen final.\n",
    "\n",
    "<code>notes_eleves = { \"Amine\": 15.5, \"Yassine\": 19.0, \"Reda\": 14.2, \"Malak\": 8.7, \"Manal\": 20.0, \"Ahmed\": 7.5,\"Saad\": 11.3, \"Hannae\": 9.8 }</code>\n",
    "\n",
    "Écrire un programme Python qui partitionne ce dictionnaire en deux sous dictionnaires :\n",
    "\n",
    "* etudiantAdmis dont les clés sont les étudiants admis et les valeurs des clés sont les moyennes obtenues (moyenne supérieures ou égales à 10 ).\n",
    "\n",
    "* etudiantNonAdmis dont les clés sont les étudiants non admis et les valeurs des clés sont les moyennes obtenues (moyenne inférieur ou égale à 10). "
   ]
  },
  {
   "cell_type": "code",
   "execution_count": 18,
   "id": "0fc954a1",
   "metadata": {},
   "outputs": [
    {
     "name": "stdout",
     "output_type": "stream",
     "text": [
      "{'Appareil': 'Laptop', 'Marque': 'IBM', 'Carte mère': 'MSI Z490', 'Carte Graphique': 'GeForce RTX 3070', 'RAM': '32G', 'Processeur': 'Intel core i7-G11', 'SSD': '1 To'}\n",
      "dict_keys(['Appareil', 'Marque', 'Carte mère', 'Carte Graphique', 'RAM', 'Processeur', 'SSD'])\n",
      "dict_values(['Laptop', 'IBM', 'MSI Z490', 'GeForce RTX 3070', '32G', 'Intel core i7-G11', '1 To'])\n",
      "Appareil\n",
      "Marque\n",
      "Carte mère\n",
      "Carte Graphique\n",
      "RAM\n",
      "Processeur\n",
      "SSD\n",
      "Laptop\n",
      "IBM\n",
      "MSI Z490\n",
      "GeForce RTX 3070\n",
      "32G\n",
      "Intel core i7-G11\n",
      "1 To\n",
      "Appareil :  Laptop\n",
      "Marque :  IBM\n",
      "Carte mère :  MSI Z490\n",
      "Carte Graphique :  GeForce RTX 3070\n",
      "RAM :  32G\n",
      "Processeur :  Intel core i7-G11\n",
      "SSD :  1 To\n",
      "{'Appareil': 'Laptop', 'Marque': 'IBM', 'Carte mère': 'MSI Z490', 'RAM': '32G', 'SSD': '1 To', 'Intel core i7-G11': 'Processeur', 'GeForce RTX 3070': 'Carte Graphique'}\n",
      "{'Appareil': 'Laptop', 'Marque': 'IBM', 'Carte mère': 'MSI Z490', 'RAM': '32G', 'SSD': '1 To', 'Intel core i7-G11': 'Processeur', 'GeForce RTX 3070': 'Carte Graphique', \"Système d'exploitation\": 'Windows 10'}\n",
      "{'Amine': 15.5, 'Yassine': 19.0, 'Reda': 14.2, 'Manal': 20.0, 'Saad': 11.3}\n",
      "{'Malak': 8.7, 'Ahmed': 7.5, 'Hannae': 9.8}\n"
     ]
    }
   ],
   "source": [
    "#  Écrivez du code Python ici\n",
    "First_dict = { \"Appareil\": \"Laptop\", \"Marque\": \"IBM\", \"Carte mère\": \"MSI Z490\", \"Carte Graphique\":\"GeForce RTX 3070\", \"RAM\": \"16G\", \"Processeur\": \"Intel core i7-G11\", \"SSD\": \"1 To\" }\n",
    "First_dict[\"RAM\"] = \"32G\"\n",
    "print(First_dict)\n",
    "print(First_dict.keys())\n",
    "print(First_dict.values())\n",
    "\n",
    "for i in First_dict:\n",
    "    print(i)\n",
    "for i in First_dict:\n",
    "    print(First_dict[i])\n",
    "\n",
    "for i in First_dict:\n",
    "    print(i, \": \",  First_dict[i])\n",
    "\n",
    "First_dict[\"Intel core i7-G11\"] = \"Processeur\"\n",
    "First_dict[\"GeForce RTX 3070\"] = \"Carte Graphique\"\n",
    "del First_dict[\"Processeur\"]\n",
    "del First_dict[\"Carte Graphique\"]\n",
    "print(First_dict)\n",
    "First_dict[\"Système d'exploitation\"] = \"Windows 10\"\n",
    "print(First_dict)\n",
    "#######################################\n",
    "\n",
    "notes_eleves = { \"Amine\": 15.5, \"Yassine\": 19.0, \"Reda\": 14.2, \"Malak\": 8.7, \"Manal\": 20.0, \"Ahmed\": 7.5,\"Saad\": 11.3, \"Hannae\": 9.8 }\n",
    "\n",
    "etudiantAdmis = {}\n",
    "etudiantNonAdmis = {}\n",
    "\n",
    "for (key, value) in notes_eleves.items():\n",
    "    if value >= 10:\n",
    "        etudiantAdmis[key] = value\n",
    "    else :\n",
    "        etudiantNonAdmis[key] = value\n",
    "\n",
    "print(etudiantAdmis)\n",
    "print(etudiantNonAdmis)\n"
   ]
  },
  {
   "cell_type": "markdown",
   "id": "7ab8effa",
   "metadata": {},
   "source": [
    "<H3><span style=\"font-weight: bold; color: #1a8bcdff;\">Challenge 2 : Mise à Jour de Dictionnaires</span></H3>\n",
    "\n",
    "1. <span style=\"font-weight: bold; color: #e56922ff;\">Objectif</span> : </br>\n",
    "Fusionner plusieurs dictionnaires en un seul.\n",
    "\n",
    "2. <span style=\"font-weight: bold; color: #e56922ff;\">Travail à faire</span>:</br>\n",
    "* Utilisez update() pour fusionner trois dictionnaires différents.\n",
    "* Affichez le dictionnaire final avec toutes les clés et valeurs combinées.\n"
   ]
  },
  {
   "cell_type": "code",
   "execution_count": 17,
   "id": "85cd8892",
   "metadata": {},
   "outputs": [
    {
     "name": "stdout",
     "output_type": "stream",
     "text": [
      "dict_items([('A', 1), ('B', 5), ('C', 3), ('D', 4), ('E', 6), ('F', 7)])\n",
      "{'A': 1, 'B': 5, 'C': 3, 'D': 4, 'E': 6, 'F': 7}\n"
     ]
    }
   ],
   "source": [
    "#  Écrivez du code Python ici\n",
    "dict1 = {\"A\" : 1, \"B\" : 2, \"C\" : 3 }\n",
    "dict2 = {\"D\" : 4, \"B\" : 5}\n",
    "dict3 = {\"E\" : 6, \"F\" : 7}\n",
    "\n",
    "fusion = {}\n",
    "for key, value in dict1.items():\n",
    "    fusion[key] = value\n",
    "for key, value in dict2.items():\n",
    "    fusion[key] = value\n",
    "for key, value in dict3.items():\n",
    "    fusion[key] = value\n",
    "print(fusion.items())\n",
    "print(fusion)"
   ]
  },
  {
   "cell_type": "markdown",
   "id": "c5dd1c26",
   "metadata": {},
   "source": [
    "<H3><span style=\"font-weight: bold; color: #1a8bcdff;\">Challenge 3 : Conversion de Deux Listes en Dictionnaire</span></H3>\n",
    "\n",
    "1. <span style=\"font-weight: bold; color: #e56922ff;\">Objectif</span> : </br>\n",
    "Créer un dictionnaire à partir de deux listes (une pour les clés, une pour les valeurs).\n",
    "\n",
    "2. <span style=\"font-weight: bold; color: #e56922ff;\">Travail à faire</span>:</br>\n",
    "* Utilisez zip() pour combiner les deux listes.\n",
    "* Convertissez le résultat en dictionnaire.\n",
    "* Affichez le dictionnaire créé.\n",
    "\n"
   ]
  },
  {
   "cell_type": "code",
   "execution_count": 16,
   "id": "2663dae7",
   "metadata": {},
   "outputs": [
    {
     "name": "stdout",
     "output_type": "stream",
     "text": [
      "dict_items([('A', 1), ('B', 2), ('C', 3), ('D', 4), ('E', 5)])\n",
      "{'A': 1, 'B': 2, 'C': 3, 'D': 4, 'E': 5}\n"
     ]
    }
   ],
   "source": [
    "#  Écrivez du code Python ici\n",
    "list1 = [\"A\", \"B\", \"C\", \"D\", \"E\"]\n",
    "list2 = [1, 2, 3, 4, 5]\n",
    "result = {}\n",
    "for key, value in zip(list1, list2):\n",
    "    result[key] = value\n",
    "print(result.items())\n",
    "print(result)"
   ]
  },
  {
   "cell_type": "markdown",
   "id": "b64cf938",
   "metadata": {},
   "source": [
    "\n",
    "<H3><span style=\"font-weight: bold; color: #1a8bcdff;\">Challenge 4 : Tri d'un Dictionnaire</span></H3>\n",
    "\n",
    "1. <span style=\"font-weight: bold; color: #e56922ff;\">Objectif</span> : </br>\n",
    "Trier un dictionnaire selon ses valeurs.\n",
    "\n",
    "2. <span style=\"font-weight: bold; color: #e56922ff;\">Travail à faire</span>:</br>\n",
    "* Utilisez items() pour obtenir les paires clé-valeur.\n",
    "* Triez ces paires par valeur.\n",
    "* Créez un nouveau dictionnaire à partir des paires triées.\n",
    "\n"
   ]
  },
  {
   "cell_type": "code",
<<<<<<< HEAD
   "execution_count": 9,
=======
   "execution_count": 1,
>>>>>>> refs/remotes/origin/main
   "id": "09480797",
   "metadata": {},
   "outputs": [
    {
     "name": "stdout",
     "output_type": "stream",
     "text": [
<<<<<<< HEAD
      "{'A': 2, 'G': 2, 'D': 4, 'C': 10, 'H': 10, 'F': 13, 'E': 43, 'B': 67}\n"
=======
      "{'A': 2, 'D': 4, 'C': 10, 'F': 13, 'E': 43, 'B': 67}\n"
>>>>>>> refs/remotes/origin/main
     ]
    }
   ],
   "source": [
    "#  Écrivez du code Python ici\n",
    "\n",
<<<<<<< HEAD
    "diction = {'A': 2, 'B': 67, 'C': 10, 'D': 4, 'E': 43, 'F': 13, 'G':2, 'H': 10}\n",
=======
    "diction = {'A': 2, 'B': 67, 'C': 10, 'D': 4, 'E': 43, 'F': 13}\n",
>>>>>>> refs/remotes/origin/main
    "\n",
    "def trier(lst):\n",
    "    if len(lst) <= 1:\n",
    "        return lst\n",
    "    else:\n",
<<<<<<< HEAD
    "        return trier([x for x in lst if x[1] < lst[0][1]])\\\n",
    "                + [x for x in lst if x[1] == lst[0][1]] \\\n",
    "                + trier([x for x in lst if x[1] > lst[0][1]])\n",
    "\n",
=======
    "        return trier([x for x in lst if x[1] < lst[0][1]]) + [lst[0]] + trier([x for x in lst if x[1] > lst[0][1]])\n",
>>>>>>> refs/remotes/origin/main
    "\n",
    "liste = list(diction.items())\n",
    "sorted_list = trier(liste)\n",
    "res = dict(sorted_list)\n",
    "\n",
    "print(res)"
   ]
  },
  {
   "cell_type": "markdown",
   "id": "2c429ffc",
   "metadata": {},
   "source": [
    "\n",
    "<H3><span style=\"font-weight: bold; color: #1a8bcdff;\">Challenge 5 : Manipulation de tuples </span></H3>\n",
    "\n",
    "1. <span style=\"font-weight: bold; color: #e56922ff;\">Objectif</span> : </br>\n",
    "Comprendre la structure des tuples, leur immutabilité, et leur utilisation pour stocker des données groupées et ordonnées.\n",
    "\n",
    "2. <span style=\"font-weight: bold; color: #e56922ff;\">Travail à faire</span>:</br>\n",
    "* Crée un tuple nommé etudiant_info contenant les informations suivantes dans cet ordre : Prénom : \"Yasmine\", Âge : 22, Filière : \"Informatique\", Moyenne générale : 17.4\n",
    "* Affiche les informations stockées dans le tuple, une par ligne, avec un texte explicite. (ex: “Prénom : Yasmine”)\n",
    "* Tente de modifier la filière dans le tuple. Que se passe-t-il ? Explique pourquoi.\n",
    "* Utilise l'opérateur de slicing pour afficher uniquement le prénom et l'âge.\n",
    "* Crée un nouveau tuple en combinant etudiant_info avec un second tuple contenant la mention \"Très Bien\" et l’année d’obtention du diplôme (2024), puis affiche le tuple final."
   ]
  },
  {
   "cell_type": "code",
<<<<<<< HEAD
   "execution_count": 11,
=======
   "execution_count": 14,
>>>>>>> refs/remotes/origin/main
   "id": "1e59354d",
   "metadata": {},
   "outputs": [
    {
     "name": "stdout",
     "output_type": "stream",
     "text": [
      "(('Prenom', 'Yasmine'), ('Age', 22), ('Filiere', 'Informatique'), ('Moyen generale', 17.4))\n",
      "Prenom : Yasmine\n",
      "Age : 22\n",
      "Filiere : Informatique\n",
      "Moyen generale : 17.4\n",
      "(('Prenom', 'Yasmine'), ('Age', 22))\n",
      "(('Prenom', 'Yasmine'), ('Age', 22), ('Filiere', 'Informatique'), ('Moyen generale', 17.4), ('Mention', 'Tres bien'), (\"Année d'obtention du diplome\", 2024))\n"
     ]
    }
   ],
   "source": [
    "#  Écrivez du code Python ici\n",
    "etudiant_info = ((\"Prenom\", \"Yasmine\"), (\"Age\" , 22), (\"Filiere\" , \"Informatique\"), (\"Moyen generale\", 17.4))\n",
    "print(etudiant_info)\n",
    "\n",
    "for key, value in etudiant_info:\n",
    "    print(f\"{key} : {value}\")\n",
<<<<<<< HEAD
    "# etudiant_info[3][1] = \"new filiere\"\n",
=======
    "# etudiant_info[3][\"Informatique\"] = \"new filiere\"\n",
>>>>>>> refs/remotes/origin/main
    "\n",
    "print(etudiant_info[0:2])\n",
    "\n",
    "tup = ((\"Mention\", \"Tres bien\"), (\"Année d'obtention du diplome\", 2024))\n",
    "etudiant_info+=tup\n",
    "print(etudiant_info)"
   ]
  },
  {
   "cell_type": "markdown",
   "id": "bdb88a19",
   "metadata": {},
   "source": []
  }
 ],
 "metadata": {
  "kernelspec": {
<<<<<<< HEAD
   "display_name": "venv",
=======
   "display_name": "base",
>>>>>>> refs/remotes/origin/main
   "language": "python",
   "name": "python3"
  },
  "language_info": {
   "codemirror_mode": {
    "name": "ipython",
    "version": 3
   },
   "file_extension": ".py",
   "mimetype": "text/x-python",
   "name": "python",
   "nbconvert_exporter": "python",
   "pygments_lexer": "ipython3",
<<<<<<< HEAD
   "version": "3.13.7"
=======
   "version": "3.13.5"
>>>>>>> refs/remotes/origin/main
  }
 },
 "nbformat": 4,
 "nbformat_minor": 5
}
