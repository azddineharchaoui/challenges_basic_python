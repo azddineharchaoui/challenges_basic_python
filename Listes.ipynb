{
 "cells": [
  {
   "cell_type": "markdown",
   "id": "b44d4791",
   "metadata": {},
   "source": [
    "<center>\n",
    "<H1><span style=\"text-align: center; font-weight: bold; color: #746bb3ff;\">Les Listes</span></H1>\n",
    "</center>"
   ]
  },
  {
   "cell_type": "markdown",
   "id": "b9c93591",
   "metadata": {},
   "source": [
    "<H3><span style=\"font-weight: bold ; color: #19b7f1ff\">Les ressources: </span></H3> \n",
    "\n",
    "* [Python Lists and List Manipulation](https://realpython.com/python-lists-tuples/)\n",
    "* [Documentation Officielle de Python - Structures de données - Listes](https://docs.python.org/fr/3/tutorial/datastructures.html#more-on-lists)\n"
   ]
  },
  {
   "cell_type": "markdown",
   "id": "873352ef",
   "metadata": {},
   "source": [
    "<H3><span style=\"font-weight: bold; color: #1a8bcdff;\">Challenge 1 : La liste des notes </span></H3>\n",
    "\n",
    "<center><code>notes = [12, 4, 14, 11, 18, 13, 7, 10, 5, 9, 15, 8, 14, 16]</code></center>\n",
    "\n",
    "<span style=\"font-weight: bold; color: #e56922ff;\">Travail à faire</span>:</br>\n",
    "Écris un programme en Python qui extrait toutes les notes supérieures à la moyenne et les stocke dans une nouvelle liste."
   ]
  },
  {
   "cell_type": "code",
   "execution_count": 7,
   "id": "08a09dc2",
   "metadata": {},
   "outputs": [
    {
     "name": "stdout",
     "output_type": "stream",
     "text": [
      "11.142857142857142\n",
      "[12, 14, 18, 13, 15, 14, 16]\n"
     ]
    }
   ],
   "source": [
    "#  Écrivez du code Python ici\n",
    "notes = [12, 4, 14, 11, 18, 13, 7, 10, 5, 9, 15, 8, 14, 16]\n",
    "avg = sum(notes)/len(notes)\n",
    "print(avg)\n",
    "# new = []\n",
    "# for i in range(len(notes)):\n",
    "#     if(notes[i]>avg):\n",
    "#         new.append(notes[i])\n",
    "new = [i for i in notes if i>avg]\n",
    "\n",
    "print(new)"
   ]
  },
  {
   "cell_type": "code",
   "execution_count": null,
   "id": "96b23b93",
   "metadata": {},
   "outputs": [
    {
     "name": "stdout",
     "output_type": "stream",
     "text": [
      "['ceci', 'est', 'un', 'paragraphe']\n"
     ]
    }
   ],
   "source": [
    "#############l implementation de split ################\n",
    "\n",
    "def splitn(texte, sep):\n",
    "    buffer =\"\"\n",
    "    list = []\n",
    "    texte+=sep\n",
    "    for i in range(len(texte)):\n",
    "        if texte[i]!=sep:\n",
    "            buffer+=texte[i]\n",
    "        elif len(buffer)!=0:\n",
    "            list.append(buffer)\n",
    "            buffer=\"\"\n",
    "    return list\n",
    "\n",
    "string = \"ceci est un paragraphe\"\n",
    "\n",
    "print(splitn(string, \" \"))\n"
   ]
  },
  {
   "cell_type": "markdown",
   "id": "87452d02",
   "metadata": {},
   "source": [
    "\n",
    "<H3><span style=\"font-weight: bold; color: #1a8bcdff;\">Challenge 2 : Les mots communs</span></H3>\n",
    "\n",
    "<center><code>\n",
    "Ch1 = \"Le langage Python est très populaire\" <br>\n",
    "Ch2 = \"Python est un langage puissant\"\n",
    "        </code></center>\n",
    "\n",
    "<span style=\"font-weight: bold; color: #e56922ff;\">Travail à faire</span>:</br>\n",
    "Écris un programme en Python qui permet de regrouper dans une liste les mots communs entre deux chaînes de caractères Ch1 et Ch2."
   ]
  },
  {
   "cell_type": "code",
   "execution_count": 37,
   "id": "a640e80e",
   "metadata": {},
   "outputs": [
    {
     "name": "stdout",
     "output_type": "stream",
     "text": [
      "['langage', 'Python', 'est']\n"
     ]
    }
   ],
   "source": [
    "#  Écrivez du code Python ici\n",
    "ch1 = \"Le langage Python est très populaire\"\n",
    "ch2 = \"Python est un langage puissant\"\n",
    "\n",
    "ch1_list = ch1.split()\n",
    "ch2_list = ch2.split()\n",
    "\"\"\"\n",
    "print(ch1_list)\n",
    "print(ch2_list)\n",
    "\"\"\"\n",
    "commun = []\n",
    "for word in ch1_list:\n",
    "    if word in ch2_list:\n",
    "        commun.append(word)\n",
    "\n",
    "print(commun)\n",
    "\n"
   ]
  },
  {
   "cell_type": "markdown",
   "id": "5d74627c",
   "metadata": {},
   "source": [
    "\n",
    "<H3><span style=\"font-weight: bold; color: #1a8bcdff;\">Challenge 3 : Manipulation et tri de listes mixtes</span></H3>\n",
    "\n",
    "<center><code>\n",
    "stock = [\"Stylo\", 25, \"Classeur\", 100, \"Crayon\", 12, \"Surligneur\", 40, \"Feutre\", 5]\n",
    "        </code></center>\n",
    "\n",
    "<span style=\"font-weight: bold; color: #e56922ff;\">Travail à faire</span>:</br>\n",
    " Écris un programme Python qui effectue les opérations suivantes à partir de la liste stock :\n",
    "\n",
    " 1. Afficher la liste initiale.\n",
    "2. Créer deux nouvelles listes :\n",
    "\n",
    "* une contenant uniquement les chaînes de caractères,\n",
    "\n",
    "* l’autre contenant uniquement les valeurs numériques.\n",
    "\n",
    "3. Trier :\n",
    "\n",
    "* la liste des chaînes en ordre croissant (alphabétique),\n",
    "\n",
    "* la liste des nombres en ordre décroissant.\n",
    "\n",
    "4. Afficher les deux listes triées."
   ]
  },
  {
   "cell_type": "code",
   "execution_count": 1,
   "id": "67b9949c",
   "metadata": {},
   "outputs": [
    {
     "name": "stdout",
     "output_type": "stream",
     "text": [
      "['Classeur', 'Crayon', 'Feutre', 'Stylo', 'Surligneur']\n"
     ]
    }
   ],
   "source": [
    "#  Écrivez du code Python ici\n",
    "stock = [\"Stylo\", 25, \"Classeur\", 100, \"Crayon\", 12, \"Surligneur\", 40, \"Feutre\", 5]\n",
    "# print(stock)\n",
    "\n",
    "list1 = [elt for elt in stock if isinstance(elt, str) ]\n",
    "list2 = [elt for elt in stock if isinstance(elt, int) ]\n",
    "\n",
    "# def trier(list):\n",
    "#     if(len(list)<=1):\n",
    "#         return list\n",
    "#     else:\n",
    "#         return trier([i for i in list if i>list[0]]) + [list[0]] + trier([i for i in list if i <list[0]])\n",
    "\n",
    "# list2 = trier(list2)\n",
    "\n",
    "# print(list2)\n",
    "\n",
    "def trier_str(list):\n",
    "    for i in range(len(list)):\n",
    "        min_i = i\n",
    "        for j in range(i + 1, len(list)):\n",
    "            if list[j] < list[min_i]:\n",
    "                min_i = j\n",
    "        # swap\n",
    "        list[i], list[min_i] = list[min_i], list[i]\n",
    "    return list\n",
    "print(trier_str(list1))\n",
    "\n",
    "# def trier_str_rapide(list):\n",
    "#     if len(list)<=1:\n",
    "#         return list\n",
    "#     else : \n",
    "#         return trier_str_rapide([i for i in list if i<list[0]]) + [list[0]] + trier_str_rapide([i for i in list if i >list[0]])\n",
    "\n",
    "\n",
    "# from operator import gt , lt\n",
    "\n",
    "# def trier(list, op1, op2):\n",
    "#     if(len(list)<=1):\n",
    "#         return list\n",
    "#     else:\n",
    "#         return trier([i for i in list if op1(i,list[0])], op1, op2) \\\n",
    "#               + [list[0]] + trier([i for i in list if op2(i,list[0])], op1, op2)\n",
    "\n",
    "# trie_croissant = trier(list2, lt, gt)\n",
    "# trie_decroissant = trier(list1, gt, lt)\n",
    "\n",
    "# print(trie_croissant)\n",
    "# print(trie_decroissant)\n",
    "\n",
    "# list2 = trier(list2)\n",
    "\n",
    "# list1 = trier_str(list1)\n",
    "\n",
    "# print(trier_str_rapide(list1))\n",
    "\n"
   ]
  },
  {
   "cell_type": "markdown",
   "id": "fe0eccef",
   "metadata": {},
   "source": [
    "\n",
    "<H3><span style=\"font-weight: bold; color: #1a8bcdff;\">Challenge 4 : Recherche d’un élément dans une liste </span></H3>\n",
    "\n",
    "<center><code>Fruits = [\"pomme\", \"banane\", \"orange\", \"kiwi\", \"mangue\"]</code></center>\n",
    "\n",
    "<span style=\"font-weight: bold; color: #e56922ff;\">Travail à faire</span>:</br>\n",
    "Créer une fonction « rechercheElement » qui a pour paramètres un élément et une liste et qui renvoie False si l’élément n’est pas dans la liste, ou l’indice de l’élément dans le cas contraire."
   ]
  },
  {
   "cell_type": "code",
   "execution_count": 39,
   "id": "b6d66015",
   "metadata": {},
   "outputs": [
    {
     "name": "stdout",
     "output_type": "stream",
     "text": [
      "2\n",
      "False\n"
     ]
    }
   ],
   "source": [
    "#  Écrivez du code Python ici\n",
    "Fruits = [\"pomme\", \"banane\", \"orange\", \"kiwi\", \"mangue\"]\n",
    "\n",
    "# def rechercheElement(list, element):\n",
    "#     return list.index(element) if element in list else False\n",
    "\n",
    "\n",
    "\n",
    "def rechercheElement(list, element):\n",
    "    for i in range(len(list)):\n",
    "        if list[i] == element : \n",
    "            return i\n",
    "    return False\n",
    "\n",
    "print(rechercheElement(Fruits, \"orange\"))\n",
    "print(rechercheElement(Fruits, \"pamplomousse\"))"
   ]
  },
  {
   "cell_type": "markdown",
   "id": "ce9ba959",
   "metadata": {},
   "source": [
    "<H3><span style=\"font-weight: bold; color: #1a8bcdff;\">Challenge 5 : Nombre d'occurrences </span></H3>\n",
    "\n",
    "<center><code>L = [7 , 23 , 5 , 23 , 7 , 19 , 23 , 12 , 29]</code></center>\n",
    "\n",
    "<span style=\"font-weight: bold; color: #e56922ff;\">Travail à faire</span>:</br>\n",
    "Écrire un algorithme en python qui renvoie le nombre d'occurrences d'un élément a dans une liste L donnée sans utiliser aucune fonction prédéfinie en Python."
   ]
  },
  {
   "cell_type": "code",
   "execution_count": 44,
   "id": "fb150eca",
   "metadata": {},
   "outputs": [
    {
     "name": "stdout",
     "output_type": "stream",
     "text": [
      "2\n"
     ]
    }
   ],
   "source": [
    "#  Écrivez du code Python ici\n",
    "L = [7, 23, 5, 23, 7, 19, 23, 12, 29]\n",
    "\n",
    "def occurences(num, list):\n",
    "    i=0\n",
    "    occ= 0\n",
    "    while (i<len(list)):\n",
    "        if num== list[i]:\n",
    "            occ+=1\n",
    "        i+=1\n",
    "    \n",
    "    return occ\n",
    "\n",
    "print(occurences(7, L))\n"
   ]
  },
  {
   "cell_type": "markdown",
   "id": "e8fb0d93",
   "metadata": {},
   "source": []
  }
 ],
 "metadata": {
  "kernelspec": {
   "display_name": "base",
   "language": "python",
   "name": "python3"
  },
  "language_info": {
   "codemirror_mode": {
    "name": "ipython",
    "version": 3
   },
   "file_extension": ".py",
   "mimetype": "text/x-python",
   "name": "python",
   "nbconvert_exporter": "python",
   "pygments_lexer": "ipython3",
   "version": "3.13.5"
  }
 },
 "nbformat": 4,
 "nbformat_minor": 5
}
